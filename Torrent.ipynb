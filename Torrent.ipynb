{
 "cells": [
  {
   "cell_type": "code",
   "execution_count": null,
   "metadata": {},
   "outputs": [],
   "source": [
    "# Download and initialize all requirements\n",
    "\n",
    "!python -m pip install --upgrade pip setuptools wheel\n",
    "!python -m pip install lbry-libtorrent\n",
    "!apt install python3-libtorrent\n",
    " \n",
    "import libtorrent as lt\n",
    " \n",
    "ses = lt.session()\n",
    "ses.listen_on(6881, 6891)\n",
    "downloads = []"
   ]
  },
  {
   "cell_type": "code",
   "execution_count": null,
   "metadata": {},
   "outputs": [],
   "source": [
    "# Mount GDrive\n",
    "\n",
    "from google.colab import drive\n",
    "drive.mount(\"/content/drive\")"
   ]
  },
  {
   "cell_type": "code",
   "execution_count": null,
   "metadata": {},
   "outputs": [],
   "source": [
    "# Import files from Gdrive, run this if you want to load files from GDrive (optional)\n",
    "\n",
    "from google.colab import files\n",
    "source = files.upload()\n",
    "params = {\n",
    "    \"save_path\": \"/content/drive/MyDrive/Torrents\",\n",
    "    \"ti\": lt.torrent_info(list(source.keys())[0]),\n",
    "}\n",
    "downloads.append(ses.add_torrent(params))"
   ]
  },
  {
   "cell_type": "code",
   "execution_count": null,
   "metadata": {},
   "outputs": [],
   "source": [
    "# GDrive Path (change the path as your wish)\n",
    "\n",
    "params = {\"save_path\": \"/content/drive/MyDrive/Torrents\"} # Path to change\n",
    "while True:\n",
    "    magnet_link = input(\"Enter Magnet Link Or Type Exit: \") 
    "    if magnet_link.lower() == \"exit\": # Type \"exit\" in the field provided for single link\n",
    "        break\n",
    "    downloads.append(\n",
    "        lt.add_magnet_uri(ses, magnet_link, params)\n",
    "    )"
   ]
  },
  {
   "cell_type": "code",
   "execution_count": null,
   "metadata": {},
   "outputs": [],
   "source": [
    "# Downloading process\n",
    "\n",
    "import time\n",
    "from IPython.display import display\n",
    "import ipywidgets as widgets\n",
    " \n",
    "state_str = [\n",
    "    \"queued\",\n",
    "    \"checking\",\n",
    "    \"downloading metadata\",\n",
    "    \"downloading\",\n",
    "    \"finished\",\n",
    "    \"seeding\",\n",
    "    \"allocating\",\n",
    "    \"checking fastresume\",\n",
    "]\n",
    " \n",
    "layout = widgets.Layout(width=\"auto\")\n",
    "style = {\"description_width\": \"initial\"}\n",
    "download_bars = [\n",
    "    widgets.FloatSlider(\n",
    "        step=0.01, disabled=True, layout=layout, style=style\n",
    "    )\n",
    "    for _ in downloads\n",
    "]\n",
    "display(*download_bars)\n",
    " \n",
    "while downloads:\n",
    "    next_shift = 0\n",
    "    for index, download in enumerate(downloads[:]):\n",
    "        bar = download_bars[index + next_shift]\n",
    "        if not download.is_seed():\n",
    "            s = download.status()\n",
    " \n",
    "            bar.description = \" \".join(\n",
    "                [\n",
    "                    download.name(),\n",
    "                    str(s.download_rate / 1000),\n",
    "                    \"kB/s\",\n",
    "                    state_str[s.state],\n",
    "                ]\n",
    "            )\n",
    "            bar.value = s.progress * 100\n",
    "        else:\n",
    "            next_shift -= 1\n",
    "            ses.remove_torrent(download)\n",
    "            downloads.remove(download)\n",
    "            bar.close() \n",
    "            download_bars.remove(bar)\n",
    "            print(download.name(), \"complete\")\n",
    "    time.sleep(1)"
   ]
  }
 ],
 "metadata": {
  "language_info": {
   "name": "python"
  },
  "orig_nbformat": 4
 },
 "nbformat": 4,
 "nbformat_minor": 2
}
